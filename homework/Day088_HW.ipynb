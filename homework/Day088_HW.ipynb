{
 "cells": [
  {
   "cell_type": "markdown",
   "metadata": {},
   "source": [
    "## Work\n",
    "1. 請嘗試寫一個 callback 用來記錄各類別在訓練過程中，對驗證集的 True Positive 與 True Negative"
   ]
  },
  {
   "cell_type": "code",
   "execution_count": 1,
   "metadata": {},
   "outputs": [
    {
     "name": "stderr",
     "output_type": "stream",
     "text": [
      "Using TensorFlow backend.\n"
     ]
    }
   ],
   "source": [
    "import os\n",
    "import keras\n",
    "\n",
    "# Disable GPU\n",
    "os.environ[\"CUDA_VISIBLE_DEVICES\"] = \"\"\n",
    "os.environ['KMP_DUPLICATE_LIB_OK']='True'\n"
   ]
  },
  {
   "cell_type": "code",
   "execution_count": 2,
   "metadata": {},
   "outputs": [],
   "source": [
    "train, test = keras.datasets.cifar10.load_data()"
   ]
  },
  {
   "cell_type": "code",
   "execution_count": 3,
   "metadata": {},
   "outputs": [],
   "source": [
    "## 資料前處理\n",
    "def preproc_x(x, flatten=True):\n",
    "    x = x / 255.\n",
    "    if flatten:\n",
    "        x = x.reshape((len(x), -1))\n",
    "    return x\n",
    "\n",
    "def preproc_y(y, num_classes=10):\n",
    "    if y.shape[-1] == 1:\n",
    "        y = keras.utils.to_categorical(y, num_classes)\n",
    "    return y    "
   ]
  },
  {
   "cell_type": "code",
   "execution_count": 4,
   "metadata": {},
   "outputs": [],
   "source": [
    "x_train, y_train = train\n",
    "x_test, y_test = test\n",
    "\n",
    "# Preproc the inputs\n",
    "x_train = preproc_x(x_train)\n",
    "x_test = preproc_x(x_test)\n",
    "\n",
    "# Preprc the outputs\n",
    "y_train = preproc_y(y_train)\n",
    "y_test = preproc_y(y_test)"
   ]
  },
  {
   "cell_type": "code",
   "execution_count": 5,
   "metadata": {},
   "outputs": [],
   "source": [
    "from keras.layers import BatchNormalization\n",
    "def build_mlp(input_shape, output_units=10, num_neurons=[512, 256, 128]):\n",
    "    input_layer = keras.layers.Input(input_shape)\n",
    "    \n",
    "    for i, n_units in enumerate(num_neurons):\n",
    "        if i == 0:\n",
    "            x = keras.layers.Dense(units=n_units, \n",
    "                                   activation=\"relu\", \n",
    "                                   name=\"hidden_layer\"+str(i+1))(input_layer)\n",
    "            x = BatchNormalization()(x)\n",
    "        else:\n",
    "            x = keras.layers.Dense(units=n_units, \n",
    "                                   activation=\"relu\", \n",
    "                                   name=\"hidden_layer\"+str(i+1))(x)\n",
    "            x = BatchNormalization()(x)\n",
    "    \n",
    "    out = keras.layers.Dense(units=output_units, activation=\"softmax\", name=\"output\")(x)\n",
    "    \n",
    "    model = keras.models.Model(inputs=[input_layer], outputs=[out])\n",
    "    return model"
   ]
  },
  {
   "cell_type": "code",
   "execution_count": 14,
   "metadata": {},
   "outputs": [],
   "source": [
    "## 超參數設定\n",
    "LEARNING_RATE = 1e-3\n",
    "EPOCHS = 25\n",
    "BATCH_SIZE = 1024\n",
    "MOMENTUM = 0.95"
   ]
  },
  {
   "cell_type": "code",
   "execution_count": 11,
   "metadata": {},
   "outputs": [],
   "source": [
    "# 載入 Callbacks\n",
    "from keras.callbacks import Callback\n",
    "\n",
    "# Record_fp_tp\n",
    "class Record_tp_tn(Callback):\n",
    "    \"\"\"Code Here\n",
    "    撰寫一個紀錄 ture positive 與 true negative 數量的 callbacks    \n",
    "    \"\"\"\n",
    "    def on_train_begin(self, epoch, logs = {}):\n",
    "        logs = logs or {}\n",
    "        record_items = [\"val_auc\", \"val_f1sc\", \"val_fp\", \"val_fn\", \"val_tp\", \"val_tn\"]\n",
    "        for i in record_items:\n",
    "            if i not in self.params['metrics']:\n",
    "                self.params['metrics'].append(i)\n",
    "    \n",
    "    def on_epoch_end(self, epoch, logs = {}, thres=0.5):\n",
    "        logs = logs or {}\n",
    "        y_true = self.validation_data[1].argmax(axis = 1)\n",
    "        y_pred = self.model.predict(self.validation_data[0])\n",
    "        y_pred = (y_pred[:, 1] >= thres) * 1\n",
    "        logs[\"val_tp\"] = sum((y_true==1) & (y_pred ==1))\n",
    "        logs[\"val_tn\"] = sum((y_true==0) & (y_pred ==0))\n",
    "\n",
    "        \n",
    "rec_tptn = Record_tp_tn()"
   ]
  },
  {
   "cell_type": "code",
   "execution_count": 15,
   "metadata": {
    "scrolled": true
   },
   "outputs": [
    {
     "name": "stdout",
     "output_type": "stream",
     "text": [
      "_________________________________________________________________\n",
      "Layer (type)                 Output Shape              Param #   \n",
      "=================================================================\n",
      "input_4 (InputLayer)         (None, 3072)              0         \n",
      "_________________________________________________________________\n",
      "hidden_layer1 (Dense)        (None, 512)               1573376   \n",
      "_________________________________________________________________\n",
      "batch_normalization_10 (Batc (None, 512)               2048      \n",
      "_________________________________________________________________\n",
      "hidden_layer2 (Dense)        (None, 256)               131328    \n",
      "_________________________________________________________________\n",
      "batch_normalization_11 (Batc (None, 256)               1024      \n",
      "_________________________________________________________________\n",
      "hidden_layer3 (Dense)        (None, 128)               32896     \n",
      "_________________________________________________________________\n",
      "batch_normalization_12 (Batc (None, 128)               512       \n",
      "_________________________________________________________________\n",
      "output (Dense)               (None, 10)                1290      \n",
      "=================================================================\n",
      "Total params: 1,742,474\n",
      "Trainable params: 1,740,682\n",
      "Non-trainable params: 1,792\n",
      "_________________________________________________________________\n",
      "Train on 50000 samples, validate on 10000 samples\n",
      "Epoch 1/25\n",
      "50000/50000 [==============================] - 12s 236us/step - loss: 2.1952 - acc: 0.2719 - val_loss: 2.0167 - val_acc: 0.3276\n",
      "Epoch 2/25\n",
      "50000/50000 [==============================] - 13s 259us/step - loss: 1.7417 - acc: 0.3934 - val_loss: 1.7761 - val_acc: 0.3874\n",
      "Epoch 3/25\n",
      "50000/50000 [==============================] - 12s 247us/step - loss: 1.6215 - acc: 0.4353 - val_loss: 1.6954 - val_acc: 0.4121\n",
      "Epoch 4/25\n",
      "50000/50000 [==============================] - 10s 203us/step - loss: 1.5502 - acc: 0.4605 - val_loss: 1.6390 - val_acc: 0.4341\n",
      "Epoch 5/25\n",
      "50000/50000 [==============================] - 11s 217us/step - loss: 1.4942 - acc: 0.4791 - val_loss: 1.5964 - val_acc: 0.4481\n",
      "Epoch 6/25\n",
      "50000/50000 [==============================] - 10s 210us/step - loss: 1.4490 - acc: 0.4926 - val_loss: 1.5813 - val_acc: 0.4510\n",
      "Epoch 7/25\n",
      "50000/50000 [==============================] - 9s 188us/step - loss: 1.4103 - acc: 0.5100 - val_loss: 1.5506 - val_acc: 0.4626\n",
      "Epoch 8/25\n",
      "50000/50000 [==============================] - 9s 187us/step - loss: 1.3747 - acc: 0.5233 - val_loss: 1.5420 - val_acc: 0.4635\n",
      "Epoch 9/25\n",
      "50000/50000 [==============================] - 10s 207us/step - loss: 1.3420 - acc: 0.5324 - val_loss: 1.5279 - val_acc: 0.4685\n",
      "Epoch 10/25\n",
      "50000/50000 [==============================] - 12s 242us/step - loss: 1.3110 - acc: 0.5455 - val_loss: 1.5126 - val_acc: 0.4706\n",
      "Epoch 11/25\n",
      "50000/50000 [==============================] - 10s 194us/step - loss: 1.2827 - acc: 0.5557 - val_loss: 1.4969 - val_acc: 0.4779\n",
      "Epoch 12/25\n",
      "50000/50000 [==============================] - 11s 224us/step - loss: 1.2579 - acc: 0.5641 - val_loss: 1.4913 - val_acc: 0.4780\n",
      "Epoch 13/25\n",
      "50000/50000 [==============================] - 9s 186us/step - loss: 1.2321 - acc: 0.5739 - val_loss: 1.4914 - val_acc: 0.4757\n",
      "Epoch 14/25\n",
      "50000/50000 [==============================] - 9s 176us/step - loss: 1.2064 - acc: 0.5838 - val_loss: 1.4901 - val_acc: 0.4794\n",
      "Epoch 15/25\n",
      "50000/50000 [==============================] - 9s 181us/step - loss: 1.1833 - acc: 0.5925 - val_loss: 1.4925 - val_acc: 0.4787\n",
      "Epoch 16/25\n",
      "50000/50000 [==============================] - 9s 177us/step - loss: 1.1584 - acc: 0.6008 - val_loss: 1.4648 - val_acc: 0.4869\n",
      "Epoch 17/25\n",
      "50000/50000 [==============================] - 9s 178us/step - loss: 1.1361 - acc: 0.6101 - val_loss: 1.4669 - val_acc: 0.4874\n",
      "Epoch 18/25\n",
      "50000/50000 [==============================] - 9s 178us/step - loss: 1.1147 - acc: 0.6210 - val_loss: 1.4741 - val_acc: 0.4873\n",
      "Epoch 19/25\n",
      "50000/50000 [==============================] - 9s 181us/step - loss: 1.0929 - acc: 0.6262 - val_loss: 1.4787 - val_acc: 0.4843\n",
      "Epoch 20/25\n",
      "50000/50000 [==============================] - 9s 189us/step - loss: 1.0706 - acc: 0.6371 - val_loss: 1.4610 - val_acc: 0.4931\n",
      "Epoch 21/25\n",
      "50000/50000 [==============================] - 9s 183us/step - loss: 1.0481 - acc: 0.6441 - val_loss: 1.4745 - val_acc: 0.4897\n",
      "Epoch 22/25\n",
      "50000/50000 [==============================] - 9s 181us/step - loss: 1.0291 - acc: 0.6513 - val_loss: 1.4578 - val_acc: 0.4938\n",
      "Epoch 23/25\n",
      "50000/50000 [==============================] - 9s 183us/step - loss: 1.0086 - acc: 0.6604 - val_loss: 1.4645 - val_acc: 0.4892\n",
      "Epoch 24/25\n",
      "50000/50000 [==============================] - 9s 182us/step - loss: 0.9878 - acc: 0.6685 - val_loss: 1.4759 - val_acc: 0.4867\n",
      "Epoch 25/25\n",
      "50000/50000 [==============================] - 9s 189us/step - loss: 0.9673 - acc: 0.6755 - val_loss: 1.4593 - val_acc: 0.4919\n"
     ]
    }
   ],
   "source": [
    "model = build_mlp(input_shape=x_train.shape[1:])\n",
    "model.summary()\n",
    "optimizer = keras.optimizers.SGD(lr=LEARNING_RATE, nesterov=True, momentum=MOMENTUM)\n",
    "model.compile(loss=\"categorical_crossentropy\", metrics=[\"accuracy\"], optimizer=optimizer)\n",
    "\n",
    "\"\"\"Code Here\n",
    "將 callbacks 放入模型訓練流程中\n",
    "\"\"\"\n",
    "model.fit(x_train, y_train, \n",
    "          epochs=EPOCHS, \n",
    "          batch_size=BATCH_SIZE, \n",
    "          validation_data=(x_test, y_test), \n",
    "          shuffle=True,\n",
    "          callbacks=[rec_tptn]\n",
    "         )\n",
    "\n",
    "# Collect results\n",
    "train_loss = model.history.history[\"loss\"]\n",
    "valid_loss = model.history.history[\"val_loss\"]\n",
    "train_acc = model.history.history[\"acc\"]\n",
    "valid_acc = model.history.history[\"val_acc\"]\n",
    "\n",
    "\"\"\"Code Here\n",
    "將 tp/tn 從訓練完的模型中取出\n",
    "\"\"\"\n",
    "valid_tp = model.history.history['val_tp']\n",
    "valid_tn = model.history.history['val_tn']"
   ]
  },
  {
   "cell_type": "code",
   "execution_count": 16,
   "metadata": {},
   "outputs": [
    {
     "data": {
      "image/png": "[encoded data removed]",
      "text/plain": [
       "<Figure size 432x288 with 1 Axes>"
      ]
     },
     "metadata": {
      "needs_background": "light"
     },
     "output_type": "display_data"
    },
    {
     "data": {
      "image/png": "[encoded data removed]",
      "text/plain": [
       "<Figure size 432x288 with 1 Axes>"
      ]
     },
     "metadata": {
      "needs_background": "light"
     },
     "output_type": "display_data"
    },
    {
     "data": {
      "image/png": "[encoded data removed]",
      "text/plain": [
       "<Figure size 432x288 with 1 Axes>"
      ]
     },
     "metadata": {
      "needs_background": "light"
     },
     "output_type": "display_data"
    }
   ],
   "source": [
    "import matplotlib.pyplot as plt\n",
    "%matplotlib inline\n",
    "\n",
    "plt.plot(range(len(train_loss)), train_loss, label=\"train loss\")\n",
    "plt.plot(range(len(valid_loss)), valid_loss, label=\"valid loss\")\n",
    "plt.legend()\n",
    "plt.title(\"Loss\")\n",
    "plt.show()\n",
    "\n",
    "plt.plot(range(len(train_acc)), train_acc, label=\"train accuracy\")\n",
    "plt.plot(range(len(valid_acc)), valid_acc, label=\"valid accuracy\")\n",
    "plt.legend()\n",
    "plt.title(\"Accuracy\")\n",
    "plt.show()\n",
    "\n",
    "plt.plot(range(len(valid_tp)), valid_tp, label=\"valid tp\", color=\"navy\")\n",
    "plt.plot(range(len(valid_tn)), valid_tn, label=\"valid tn\", color=\"red\")\n",
    "plt.legend()\n",
    "plt.title(\"True positives and True Negatives\")\n",
    "plt.show()\n"
   ]
  },
  {
   "cell_type": "code",
   "execution_count": null,
   "metadata": {},
   "outputs": [],
   "source": []
  }
 ],
 "metadata": {
  "kernelspec": {
   "display_name": "Python 3",
   "language": "python",
   "name": "python3"
  },
  "language_info": {
   "codemirror_mode": {
    "name": "ipython",
    "version": 3
   },
   "file_extension": ".py",
   "mimetype": "text/x-python",
   "name": "python",
   "nbconvert_exporter": "python",
   "pygments_lexer": "ipython3",
   "version": "3.7.3"
  }
 },
 "nbformat": 4,
 "nbformat_minor": 2
}
