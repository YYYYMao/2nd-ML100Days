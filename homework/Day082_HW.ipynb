{
 "cells": [
  {
   "cell_type": "markdown",
   "metadata": {},
   "source": [
    "## Work\n",
    "1. 請比較使用不同層數以及不同 Dropout rate 對訓練的效果\n",
    "2. 將 optimizer 改成使用 Adam 並加上適當的 dropout rate 檢視結果"
   ]
  },
  {
   "cell_type": "code",
   "execution_count": 8,
   "metadata": {},
   "outputs": [],
   "source": [
    "import os\n",
    "import keras\n",
    "import itertools\n",
    "from keras.layers import Dropout\n",
    "\n",
    "# Disable GPU\n",
    "os.environ[\"CUDA_VISIBLE_DEVICES\"] = \"\"\n",
    "os.environ['KMP_DUPLICATE_LIB_OK']='True'\n"
   ]
  },
  {
   "cell_type": "code",
   "execution_count": 2,
   "metadata": {},
   "outputs": [],
   "source": [
    "train, test = keras.datasets.cifar10.load_data()"
   ]
  },
  {
   "cell_type": "code",
   "execution_count": 3,
   "metadata": {},
   "outputs": [],
   "source": [
    "## 資料前處理\n",
    "def preproc_x(x, flatten=True):\n",
    "    x = x / 255.\n",
    "    if flatten:\n",
    "        x = x.reshape((len(x), -1))\n",
    "    return x\n",
    "\n",
    "def preproc_y(y, num_classes=10):\n",
    "    if y.shape[-1] == 1:\n",
    "        y = keras.utils.to_categorical(y, num_classes)\n",
    "    return y    "
   ]
  },
  {
   "cell_type": "code",
   "execution_count": 4,
   "metadata": {},
   "outputs": [],
   "source": [
    "x_train, y_train = train\n",
    "x_test, y_test = test\n",
    "\n",
    "# Preproc the inputs\n",
    "x_train = preproc_x(x_train)\n",
    "x_test = preproc_x(x_test)\n",
    "\n",
    "# Preprc the outputs\n",
    "y_train = preproc_y(y_train)\n",
    "y_test = preproc_y(y_test)"
   ]
  },
  {
   "cell_type": "code",
   "execution_count": 5,
   "metadata": {},
   "outputs": [],
   "source": [
    "\n",
    "def build_mlp(input_shape, output_units=10, num_neurons=[512, 256, 128], drp_ratio=0.2):\n",
    "    input_layer = keras.layers.Input(input_shape)\n",
    "    \n",
    "    for i, n_units in enumerate(num_neurons):\n",
    "        if i == 0:\n",
    "            x = keras.layers.Dense(units=n_units, \n",
    "                                   activation=\"relu\", \n",
    "                                   name=\"hidden_layer\"+str(i+1))(input_layer)\n",
    "            x = Dropout(drp_ratio)(x)\n",
    "        else:\n",
    "            x = keras.layers.Dense(units=n_units, \n",
    "                                   activation=\"relu\", \n",
    "                                   name=\"hidden_layer\"+str(i+1))(x)\n",
    "            x = Dropout(drp_ratio)(x)\n",
    "    \n",
    "    out = keras.layers.Dense(units=output_units, activation=\"softmax\", name=\"output\")(x)\n",
    "    \n",
    "    model = keras.models.Model(inputs=[input_layer], outputs=[out])\n",
    "    return model"
   ]
  },
  {
   "cell_type": "code",
   "execution_count": 6,
   "metadata": {},
   "outputs": [],
   "source": [
    "\"\"\"Code Here\n",
    "設定超參數\n",
    "\"\"\"\n",
    "LEARNING_RATE = 1e-3\n",
    "EPOCHS = 20\n",
    "BATCH_SIZE = 256\n",
    "MOMENTUM = 0.95\n",
    "Dropout_EXP = 0.5"
   ]
  },
  {
   "cell_type": "code",
   "execution_count": 9,
   "metadata": {
    "scrolled": true
   },
   "outputs": [
    {
     "name": "stdout",
     "output_type": "stream",
     "text": [
      "WARNING:tensorflow:From /Users/ying/anaconda3/lib/python3.7/site-packages/keras/backend/tensorflow_backend.py:3445: calling dropout (from tensorflow.python.ops.nn_ops) with keep_prob is deprecated and will be removed in a future version.\n",
      "Instructions for updating:\n",
      "Please use `rate` instead of `keep_prob`. Rate should be set to `rate = 1 - keep_prob`.\n",
      "_________________________________________________________________\n",
      "Layer (type)                 Output Shape              Param #   \n",
      "=================================================================\n",
      "input_2 (InputLayer)         (None, 3072)              0         \n",
      "_________________________________________________________________\n",
      "hidden_layer1 (Dense)        (None, 512)               1573376   \n",
      "_________________________________________________________________\n",
      "dropout_1 (Dropout)          (None, 512)               0         \n",
      "_________________________________________________________________\n",
      "hidden_layer2 (Dense)        (None, 256)               131328    \n",
      "_________________________________________________________________\n",
      "dropout_2 (Dropout)          (None, 256)               0         \n",
      "_________________________________________________________________\n",
      "hidden_layer3 (Dense)        (None, 128)               32896     \n",
      "_________________________________________________________________\n",
      "dropout_3 (Dropout)          (None, 128)               0         \n",
      "_________________________________________________________________\n",
      "output (Dense)               (None, 10)                1290      \n",
      "=================================================================\n",
      "Total params: 1,738,890\n",
      "Trainable params: 1,738,890\n",
      "Non-trainable params: 0\n",
      "_________________________________________________________________\n",
      "WARNING:tensorflow:From /Users/ying/anaconda3/lib/python3.7/site-packages/tensorflow/python/ops/math_ops.py:3066: to_int32 (from tensorflow.python.ops.math_ops) is deprecated and will be removed in a future version.\n",
      "Instructions for updating:\n",
      "Use tf.cast instead.\n",
      "Train on 50000 samples, validate on 10000 samples\n",
      "Epoch 1/20\n",
      "50000/50000 [==============================] - 21s 418us/step - loss: 2.2228 - acc: 0.1528 - val_loss: 2.0533 - val_acc: 0.2179\n",
      "Epoch 2/20\n",
      "50000/50000 [==============================] - 19s 383us/step - loss: 2.1047 - acc: 0.1908 - val_loss: 2.0233 - val_acc: 0.2603\n",
      "Epoch 3/20\n",
      "50000/50000 [==============================] - 20s 399us/step - loss: 2.0661 - acc: 0.2066 - val_loss: 1.9854 - val_acc: 0.2595\n",
      "Epoch 4/20\n",
      "50000/50000 [==============================] - 22s 436us/step - loss: 2.0410 - acc: 0.2186 - val_loss: 2.0043 - val_acc: 0.2665\n",
      "Epoch 5/20\n",
      "50000/50000 [==============================] - 22s 438us/step - loss: 2.0292 - acc: 0.2223 - val_loss: 2.0137 - val_acc: 0.2698\n",
      "Epoch 6/20\n",
      "50000/50000 [==============================] - 18s 358us/step - loss: 2.0187 - acc: 0.2283 - val_loss: 1.9714 - val_acc: 0.2753\n",
      "Epoch 7/20\n",
      "50000/50000 [==============================] - 18s 360us/step - loss: 2.0104 - acc: 0.2324 - val_loss: 1.9667 - val_acc: 0.2850\n",
      "Epoch 8/20\n",
      "50000/50000 [==============================] - 18s 357us/step - loss: 2.0070 - acc: 0.2321 - val_loss: 2.0273 - val_acc: 0.2616\n",
      "Epoch 9/20\n",
      "50000/50000 [==============================] - 21s 428us/step - loss: 2.0007 - acc: 0.2316 - val_loss: 1.9850 - val_acc: 0.2854\n",
      "Epoch 10/20\n",
      "50000/50000 [==============================] - 18s 360us/step - loss: 1.9902 - acc: 0.2383 - val_loss: 2.0008 - val_acc: 0.2624\n",
      "Epoch 11/20\n",
      "50000/50000 [==============================] - 18s 359us/step - loss: 1.9899 - acc: 0.2403 - val_loss: 1.9501 - val_acc: 0.2930\n",
      "Epoch 12/20\n",
      "50000/50000 [==============================] - 18s 365us/step - loss: 1.9901 - acc: 0.2419 - val_loss: 1.9659 - val_acc: 0.2914\n",
      "Epoch 13/20\n",
      "50000/50000 [==============================] - 18s 361us/step - loss: 1.9825 - acc: 0.2478 - val_loss: 1.9740 - val_acc: 0.2823\n",
      "Epoch 14/20\n",
      "50000/50000 [==============================] - 19s 382us/step - loss: 1.9801 - acc: 0.2474 - val_loss: 1.9706 - val_acc: 0.2736\n",
      "Epoch 15/20\n",
      "50000/50000 [==============================] - 19s 387us/step - loss: 1.9859 - acc: 0.2443 - val_loss: 1.9813 - val_acc: 0.2676\n",
      "Epoch 16/20\n",
      "50000/50000 [==============================] - 19s 378us/step - loss: 1.9812 - acc: 0.2464 - val_loss: 1.9841 - val_acc: 0.2674\n",
      "Epoch 17/20\n",
      "50000/50000 [==============================] - 19s 381us/step - loss: 1.9773 - acc: 0.2483 - val_loss: 1.9594 - val_acc: 0.2914\n",
      "Epoch 18/20\n",
      "50000/50000 [==============================] - 20s 408us/step - loss: 1.9770 - acc: 0.2501 - val_loss: 1.9895 - val_acc: 0.2640\n",
      "Epoch 19/20\n",
      "50000/50000 [==============================] - 22s 440us/step - loss: 1.9745 - acc: 0.2506 - val_loss: 1.9777 - val_acc: 0.2634\n",
      "Epoch 20/20\n",
      "50000/50000 [==============================] - 21s 418us/step - loss: 1.9733 - acc: 0.2525 - val_loss: 1.9571 - val_acc: 0.2848\n"
     ]
    }
   ],
   "source": [
    "results = {}\n",
    "\"\"\"Code Here\n",
    "撰寫你的訓練流程並將結果用 dictionary 紀錄\n",
    "\"\"\"\n",
    "model = build_mlp(input_shape=x_train.shape[1:], drp_ratio=Dropout_EXP)\n",
    "model.summary()\n",
    "model.compile(loss=\"categorical_crossentropy\", metrics=[\"accuracy\"], optimizer='adam')\n",
    "\n",
    "model.fit(x_train, y_train, \n",
    "          epochs=EPOCHS, \n",
    "          batch_size=BATCH_SIZE, \n",
    "          validation_data=(x_test, y_test), \n",
    "          shuffle=True)\n",
    "\n",
    "# Collect results\n",
    "train_loss = model.history.history[\"loss\"]\n",
    "valid_loss = model.history.history[\"val_loss\"]\n",
    "train_acc = model.history.history[\"acc\"]\n",
    "valid_acc = model.history.history[\"val_acc\"]"
   ]
  },
  {
   "cell_type": "code",
   "execution_count": 10,
   "metadata": {},
   "outputs": [
    {
     "data": {
      "image/png": "[encoded data removed]",
      "text/plain": [
       "<Figure size 432x288 with 1 Axes>"
      ]
     },
     "metadata": {
      "needs_background": "light"
     },
     "output_type": "display_data"
    }
   ],
   "source": [
    "import matplotlib.pyplot as plt\n",
    "%matplotlib inline\n",
    "\n",
    "plt.plot(range(len(train_loss)), train_loss, label=\"train loss\")\n",
    "plt.plot(range(len(valid_loss)), valid_loss, label=\"valid loss\")\n",
    "plt.legend()\n",
    "plt.title(\"Loss\")\n",
    "plt.show()\n",
    "\n"
   ]
  },
  {
   "cell_type": "code",
   "execution_count": 11,
   "metadata": {},
   "outputs": [
    {
     "data": {
      "image/png": "[encoded data removed]",
      "text/plain": [
       "<Figure size 432x288 with 1 Axes>"
      ]
     },
     "metadata": {
      "needs_background": "light"
     },
     "output_type": "display_data"
    }
   ],
   "source": [
    "plt.plot(range(len(train_acc)), train_acc, label=\"train accuracy\")\n",
    "plt.plot(range(len(valid_acc)), valid_acc, label=\"valid accuracy\")\n",
    "plt.legend()\n",
    "plt.title(\"Accuracy\")\n",
    "plt.show()"
   ]
  },
  {
   "cell_type": "code",
   "execution_count": null,
   "metadata": {},
   "outputs": [],
   "source": []
  }
 ],
 "metadata": {
  "kernelspec": {
   "display_name": "Python 3",
   "language": "python",
   "name": "python3"
  },
  "language_info": {
   "codemirror_mode": {
    "name": "ipython",
    "version": 3
   },
   "file_extension": ".py",
   "mimetype": "text/x-python",
   "name": "python",
   "nbconvert_exporter": "python",
   "pygments_lexer": "ipython3",
   "version": "3.7.3"
  }
 },
 "nbformat": 4,
 "nbformat_minor": 2
}
